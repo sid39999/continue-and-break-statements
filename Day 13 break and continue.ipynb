{
 "cells": [
  {
   "cell_type": "markdown",
   "id": "f1554ea7",
   "metadata": {},
   "source": [
    "#                          Welcome To Our Challenge\n",
    "                                100 Days of Code Challenge\n",
    "\n",
    "                    Challenge Accepted by YOUTUBER:   SANCHIT AGRAWAL"
   ]
  },
  {
   "cell_type": "raw",
   "id": "3534089a",
   "metadata": {},
   "source": [
    "YOUTUBE CHANNEL Name: Sanchit Agrawal"
   ]
  },
  {
   "cell_type": "markdown",
   "id": "52cc1a3e",
   "metadata": {},
   "source": [
    "#                                           DAY 13\n",
    "                                         LET'S BEGIN"
   ]
  },
  {
   "cell_type": "markdown",
   "id": "f5ff3a15",
   "metadata": {},
   "source": [
    "# Continue and Break Statements"
   ]
  },
  {
   "cell_type": "raw",
   "id": "12dcc632",
   "metadata": {},
   "source": [
    "both statements are used in loop to do a particular task if we needed"
   ]
  },
  {
   "cell_type": "markdown",
   "id": "98ae144a",
   "metadata": {},
   "source": [
    "# Break Statement"
   ]
  },
  {
   "cell_type": "raw",
   "id": "010e28d2",
   "metadata": {},
   "source": [
    "The break statement is used to exit a loop prematurely, stopping further iterations, even if the loop condition is still true."
   ]
  },
  {
   "cell_type": "code",
   "execution_count": 6,
   "id": "dff66f2f",
   "metadata": {},
   "outputs": [
    {
     "name": "stdout",
     "output_type": "stream",
     "text": [
      "0\n",
      "1\n",
      "2\n",
      "3\n",
      "4\n",
      "5\n",
      "6\n",
      "7\n",
      "8\n",
      "9\n",
      "10\n",
      "11\n",
      "12\n",
      "13\n",
      "14\n",
      "15\n",
      "16\n",
      "17\n",
      "18\n",
      "19\n",
      "20\n"
     ]
    }
   ],
   "source": [
    "for i in range(50):\n",
    "    print(i)\n",
    "    if i == 20:\n",
    "        break"
   ]
  },
  {
   "cell_type": "markdown",
   "id": "dd7056fc",
   "metadata": {},
   "source": [
    "# Continue Statement"
   ]
  },
  {
   "cell_type": "raw",
   "id": "3efd55e1",
   "metadata": {},
   "source": [
    "The continue statement is used to skip the rest of the code inside a loop for the current iteration and move on to the next iteration."
   ]
  },
  {
   "cell_type": "code",
   "execution_count": 15,
   "id": "6a246cc0",
   "metadata": {},
   "outputs": [
    {
     "name": "stdout",
     "output_type": "stream",
     "text": [
      "0\n",
      "1\n",
      "2\n",
      "3\n",
      "4\n",
      "6\n",
      "7\n",
      "8\n",
      "9\n"
     ]
    }
   ],
   "source": [
    "for i in range(10):\n",
    "    if i == 5:\n",
    "        continue\n",
    "    print(i)\n"
   ]
  },
  {
   "cell_type": "code",
   "execution_count": null,
   "id": "264ecb5d",
   "metadata": {},
   "outputs": [],
   "source": []
  }
 ],
 "metadata": {
  "kernelspec": {
   "display_name": "Python 3 (ipykernel)",
   "language": "python",
   "name": "python3"
  },
  "language_info": {
   "codemirror_mode": {
    "name": "ipython",
    "version": 3
   },
   "file_extension": ".py",
   "mimetype": "text/x-python",
   "name": "python",
   "nbconvert_exporter": "python",
   "pygments_lexer": "ipython3",
   "version": "3.11.5"
  }
 },
 "nbformat": 4,
 "nbformat_minor": 5
}
